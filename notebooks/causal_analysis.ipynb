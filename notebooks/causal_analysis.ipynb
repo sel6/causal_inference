{
 "cells": [
  {
   "cell_type": "code",
   "execution_count": 1,
   "id": "cca29364-387a-4609-938a-a5d818110735",
   "metadata": {},
   "outputs": [],
   "source": [
    "import pandas as pd\n",
    "import numpy as np\n",
    "import seaborn as sns\n",
    "import dowhy\n",
    "from dowhy import CausalModel\n",
    "import dowhy.datasets as ds, dowhy.plotter\n",
    "import econml"
   ]
  },
  {
   "cell_type": "code",
   "execution_count": 2,
   "id": "a73a72bd-96bb-432f-8729-3a5ef6c514f8",
   "metadata": {},
   "outputs": [
    {
     "data": {
      "image/png": "[encoded data removed]",
      "text/latex": [
       "$\\displaystyle \\left( 569, \\  30\\right)$"
      ],
      "text/plain": [
       "(569, 30)"
      ]
     },
     "execution_count": 2,
     "metadata": {},
     "output_type": "execute_result"
    }
   ],
   "source": [
    "data = pd.read_csv(\"../data/data.csv\")\n",
    "y = data.diagnosis                          # M or B \n",
    "list = ['Unnamed: 32','id','diagnosis']\n",
    "x = data.drop(list,axis = 1 )\n",
    "x.shape"
   ]
  },
  {
   "cell_type": "markdown",
   "id": "4d5aec07-9a3a-44fa-9aa8-d6f2d4ec4cd9",
   "metadata": {},
   "source": [
    "### Feature Selection with correlation"
   ]
  },
  {
   "cell_type": "code",
   "execution_count": 3,
   "id": "8821e169-5f56-49e7-ae23-5fa7b8e2b1d3",
   "metadata": {},
   "outputs": [
    {
     "data": {
      "text/html": [
       "<div>\n",
       "<style scoped>\n",
       "    .dataframe tbody tr th:only-of-type {\n",
       "        vertical-align: middle;\n",
       "    }\n",
       "\n",
       "    .dataframe tbody tr th {\n",
       "        vertical-align: top;\n",
       "    }\n",
       "\n",
       "    .dataframe thead th {\n",
       "        text-align: right;\n",
       "    }\n",
       "</style>\n",
       "<table border=\"1\" class=\"dataframe\">\n",
       "  <thead>\n",
       "    <tr style=\"text-align: right;\">\n",
       "      <th></th>\n",
       "      <th>texture_mean</th>\n",
       "      <th>area_mean</th>\n",
       "      <th>smoothness_mean</th>\n",
       "      <th>concavity_mean</th>\n",
       "      <th>symmetry_mean</th>\n",
       "      <th>fractal_dimension_mean</th>\n",
       "      <th>texture_se</th>\n",
       "      <th>area_se</th>\n",
       "      <th>smoothness_se</th>\n",
       "      <th>concavity_se</th>\n",
       "      <th>symmetry_se</th>\n",
       "      <th>fractal_dimension_se</th>\n",
       "      <th>smoothness_worst</th>\n",
       "      <th>concavity_worst</th>\n",
       "      <th>symmetry_worst</th>\n",
       "      <th>fractal_dimension_worst</th>\n",
       "    </tr>\n",
       "  </thead>\n",
       "  <tbody>\n",
       "    <tr>\n",
       "      <th>0</th>\n",
       "      <td>10.38</td>\n",
       "      <td>1001.0</td>\n",
       "      <td>0.11840</td>\n",
       "      <td>0.3001</td>\n",
       "      <td>0.2419</td>\n",
       "      <td>0.07871</td>\n",
       "      <td>0.9053</td>\n",
       "      <td>153.40</td>\n",
       "      <td>0.006399</td>\n",
       "      <td>0.05373</td>\n",
       "      <td>0.03003</td>\n",
       "      <td>0.006193</td>\n",
       "      <td>0.1622</td>\n",
       "      <td>0.7119</td>\n",
       "      <td>0.4601</td>\n",
       "      <td>0.11890</td>\n",
       "    </tr>\n",
       "    <tr>\n",
       "      <th>1</th>\n",
       "      <td>17.77</td>\n",
       "      <td>1326.0</td>\n",
       "      <td>0.08474</td>\n",
       "      <td>0.0869</td>\n",
       "      <td>0.1812</td>\n",
       "      <td>0.05667</td>\n",
       "      <td>0.7339</td>\n",
       "      <td>74.08</td>\n",
       "      <td>0.005225</td>\n",
       "      <td>0.01860</td>\n",
       "      <td>0.01389</td>\n",
       "      <td>0.003532</td>\n",
       "      <td>0.1238</td>\n",
       "      <td>0.2416</td>\n",
       "      <td>0.2750</td>\n",
       "      <td>0.08902</td>\n",
       "    </tr>\n",
       "    <tr>\n",
       "      <th>2</th>\n",
       "      <td>21.25</td>\n",
       "      <td>1203.0</td>\n",
       "      <td>0.10960</td>\n",
       "      <td>0.1974</td>\n",
       "      <td>0.2069</td>\n",
       "      <td>0.05999</td>\n",
       "      <td>0.7869</td>\n",
       "      <td>94.03</td>\n",
       "      <td>0.006150</td>\n",
       "      <td>0.03832</td>\n",
       "      <td>0.02250</td>\n",
       "      <td>0.004571</td>\n",
       "      <td>0.1444</td>\n",
       "      <td>0.4504</td>\n",
       "      <td>0.3613</td>\n",
       "      <td>0.08758</td>\n",
       "    </tr>\n",
       "    <tr>\n",
       "      <th>3</th>\n",
       "      <td>20.38</td>\n",
       "      <td>386.1</td>\n",
       "      <td>0.14250</td>\n",
       "      <td>0.2414</td>\n",
       "      <td>0.2597</td>\n",
       "      <td>0.09744</td>\n",
       "      <td>1.1560</td>\n",
       "      <td>27.23</td>\n",
       "      <td>0.009110</td>\n",
       "      <td>0.05661</td>\n",
       "      <td>0.05963</td>\n",
       "      <td>0.009208</td>\n",
       "      <td>0.2098</td>\n",
       "      <td>0.6869</td>\n",
       "      <td>0.6638</td>\n",
       "      <td>0.17300</td>\n",
       "    </tr>\n",
       "    <tr>\n",
       "      <th>4</th>\n",
       "      <td>14.34</td>\n",
       "      <td>1297.0</td>\n",
       "      <td>0.10030</td>\n",
       "      <td>0.1980</td>\n",
       "      <td>0.1809</td>\n",
       "      <td>0.05883</td>\n",
       "      <td>0.7813</td>\n",
       "      <td>94.44</td>\n",
       "      <td>0.011490</td>\n",
       "      <td>0.05688</td>\n",
       "      <td>0.01756</td>\n",
       "      <td>0.005115</td>\n",
       "      <td>0.1374</td>\n",
       "      <td>0.4000</td>\n",
       "      <td>0.2364</td>\n",
       "      <td>0.07678</td>\n",
       "    </tr>\n",
       "  </tbody>\n",
       "</table>\n",
       "</div>"
      ],
      "text/plain": [
       "   texture_mean  area_mean  smoothness_mean  concavity_mean  symmetry_mean  \\\n",
       "0         10.38     1001.0          0.11840          0.3001         0.2419   \n",
       "1         17.77     1326.0          0.08474          0.0869         0.1812   \n",
       "2         21.25     1203.0          0.10960          0.1974         0.2069   \n",
       "3         20.38      386.1          0.14250          0.2414         0.2597   \n",
       "4         14.34     1297.0          0.10030          0.1980         0.1809   \n",
       "\n",
       "   fractal_dimension_mean  texture_se  area_se  smoothness_se  concavity_se  \\\n",
       "0                 0.07871      0.9053   153.40       0.006399       0.05373   \n",
       "1                 0.05667      0.7339    74.08       0.005225       0.01860   \n",
       "2                 0.05999      0.7869    94.03       0.006150       0.03832   \n",
       "3                 0.09744      1.1560    27.23       0.009110       0.05661   \n",
       "4                 0.05883      0.7813    94.44       0.011490       0.05688   \n",
       "\n",
       "   symmetry_se  fractal_dimension_se  smoothness_worst  concavity_worst  \\\n",
       "0      0.03003              0.006193            0.1622           0.7119   \n",
       "1      0.01389              0.003532            0.1238           0.2416   \n",
       "2      0.02250              0.004571            0.1444           0.4504   \n",
       "3      0.05963              0.009208            0.2098           0.6869   \n",
       "4      0.01756              0.005115            0.1374           0.4000   \n",
       "\n",
       "   symmetry_worst  fractal_dimension_worst  \n",
       "0          0.4601                  0.11890  \n",
       "1          0.2750                  0.08902  \n",
       "2          0.3613                  0.08758  \n",
       "3          0.6638                  0.17300  \n",
       "4          0.2364                  0.07678  "
      ]
     },
     "execution_count": 3,
     "metadata": {},
     "output_type": "execute_result"
    }
   ],
   "source": [
    "drop_list1 = ['perimeter_mean','radius_mean','compactness_mean','concave points_mean','radius_se','perimeter_se','radius_worst','perimeter_worst','compactness_worst','concave points_worst','compactness_se','concave points_se','texture_worst','area_worst']\n",
    "x_1 = x.drop(drop_list1,axis = 1 )        # do not modify x, we will use it later \n",
    "x_1.head()"
   ]
  },
  {
   "cell_type": "markdown",
   "id": "3d868216-bd64-46af-8316-e40ca562af93",
   "metadata": {},
   "source": [
    "#### check accuracy"
   ]
  },
  {
   "cell_type": "code",
   "execution_count": 4,
   "id": "22623a39-9504-4c32-a23f-d6e223e5ecb7",
   "metadata": {},
   "outputs": [
    {
     "name": "stdout",
     "output_type": "stream",
     "text": [
      "Accuracy is:  0.9649122807017544\n"
     ]
    },
    {
     "data": {
      "text/plain": [
       "<AxesSubplot:>"
      ]
     },
     "execution_count": 4,
     "metadata": {},
     "output_type": "execute_result"
    },
    {
     "data": {
      "image/png": "[encoded data removed]",
      "text/plain": [
       "<Figure size 432x288 with 2 Axes>"
      ]
     },
     "metadata": {
      "needs_background": "light"
     },
     "output_type": "display_data"
    }
   ],
   "source": [
    "from sklearn.model_selection import train_test_split\n",
    "from sklearn.ensemble import RandomForestClassifier\n",
    "from sklearn.metrics import f1_score,confusion_matrix\n",
    "from sklearn.metrics import accuracy_score\n",
    "\n",
    "# split data train 70 % and test 30 %\n",
    "x_train, x_test, y_train, y_test = train_test_split(x_1, y, test_size=0.3, random_state=42)\n",
    "\n",
    "#random forest classifier with n_estimators=10 (default)\n",
    "clf_rf = RandomForestClassifier(random_state=43)      \n",
    "clr_rf = clf_rf.fit(x_train,y_train)\n",
    "\n",
    "ac = accuracy_score(y_test,clf_rf.predict(x_test))\n",
    "print('Accuracy is: ',ac)\n",
    "cm = confusion_matrix(y_test,clf_rf.predict(x_test))\n",
    "sns.heatmap(cm,annot=True,fmt=\"d\")"
   ]
  },
  {
   "cell_type": "markdown",
   "id": "a5237577-693c-4e75-9c45-b463e9e88eee",
   "metadata": {},
   "source": [
    "### Univariate Feature Selction"
   ]
  },
  {
   "cell_type": "markdown",
   "id": "695dfcd3-a791-490e-8f06-a9dc83fcb2af",
   "metadata": {},
   "source": [
    "* use SelectKBest that removes all but the k highest scoring features\n",
    "* k = 5 for accuracy"
   ]
  },
  {
   "cell_type": "code",
   "execution_count": 9,
   "id": "2d3d1c5e-f378-4548-a6d2-15cdc6c67f39",
   "metadata": {},
   "outputs": [],
   "source": [
    "from sklearn.feature_selection import SelectKBest\n",
    "from sklearn.feature_selection import chi2\n",
    "# find best scored 15 features\n",
    "select_feature = SelectKBest(chi2, k=10).fit(x_train, y_train)"
   ]
  },
  {
   "cell_type": "code",
   "execution_count": 10,
   "id": "1fae4e4d-d00a-43da-8345-611820b35248",
   "metadata": {},
   "outputs": [
    {
     "name": "stdout",
     "output_type": "stream",
     "text": [
      "Score list: [6.06916433e+01 3.66899557e+04 1.00015175e-01 1.30547650e+01\n",
      " 1.95982847e-01 3.42575072e-04 4.07131026e-02 6.12741067e+03\n",
      " 1.32470372e-03 6.92896719e-01 1.39557806e-03 2.65927071e-03\n",
      " 2.63226314e-01 2.58858117e+01 1.00635138e+00 1.23087347e-01]\n",
      "Feature list: Index(['texture_mean', 'area_mean', 'smoothness_mean', 'concavity_mean',\n",
      "       'symmetry_mean', 'fractal_dimension_mean', 'texture_se', 'area_se',\n",
      "       'smoothness_se', 'concavity_se', 'symmetry_se', 'fractal_dimension_se',\n",
      "       'smoothness_worst', 'concavity_worst', 'symmetry_worst',\n",
      "       'fractal_dimension_worst'],\n",
      "      dtype='object')\n"
     ]
    }
   ],
   "source": [
    "print('Score list:', select_feature.scores_)\n",
    "print('Feature list:', x_train.columns)"
   ]
  },
  {
   "cell_type": "code",
   "execution_count": 11,
   "id": "28e2ee74-a586-4e69-9c85-b8397979ea99",
   "metadata": {},
   "outputs": [
    {
     "name": "stdout",
     "output_type": "stream",
     "text": [
      "Accuracy is:  0.9707602339181286\n"
     ]
    },
    {
     "data": {
      "text/plain": [
       "<AxesSubplot:>"
      ]
     },
     "execution_count": 11,
     "metadata": {},
     "output_type": "execute_result"
    },
    {
     "data": {
      "image/png": "[encoded data removed]",
      "text/plain": [
       "<Figure size 432x288 with 2 Axes>"
      ]
     },
     "metadata": {
      "needs_background": "light"
     },
     "output_type": "display_data"
    }
   ],
   "source": [
    "x_train_2 = select_feature.transform(x_train)\n",
    "x_test_2 = select_feature.transform(x_test)\n",
    "#random forest classifier with n_estimators=10 (default)\n",
    "clf_rf_2 = RandomForestClassifier()      \n",
    "clr_rf_2 = clf_rf_2.fit(x_train_2,y_train)\n",
    "ac_2 = accuracy_score(y_test,clf_rf_2.predict(x_test_2))\n",
    "print('Accuracy is: ',ac_2)\n",
    "cm_2 = confusion_matrix(y_test,clf_rf_2.predict(x_test_2))\n",
    "sns.heatmap(cm_2,annot=True,fmt=\"d\")"
   ]
  },
  {
   "cell_type": "markdown",
   "id": "e6e251cb-32a4-4091-bc81-580223ad91ee",
   "metadata": {},
   "source": [
    "## Choose features by RFE"
   ]
  },
  {
   "cell_type": "code",
   "execution_count": 12,
   "id": "2020e58d-b992-4732-841b-9c047a76c157",
   "metadata": {},
   "outputs": [],
   "source": [
    "from sklearn.feature_selection import RFE\n",
    "# Create the RFE object and rank each pixel\n",
    "clf_rf_3 = RandomForestClassifier()      \n",
    "rfe = RFE(estimator=clf_rf_3, n_features_to_select=15, step=1)\n",
    "rfe = rfe.fit(x_train, y_train)"
   ]
  },
  {
   "cell_type": "code",
   "execution_count": 13,
   "id": "3845832f-0957-437c-8070-87cbbcf5e418",
   "metadata": {},
   "outputs": [
    {
     "name": "stdout",
     "output_type": "stream",
     "text": [
      "Chosen best 10 feature by rfe: Index(['texture_mean', 'area_mean', 'smoothness_mean', 'concavity_mean',\n",
      "       'fractal_dimension_mean', 'texture_se', 'area_se', 'smoothness_se',\n",
      "       'concavity_se', 'symmetry_se', 'fractal_dimension_se',\n",
      "       'smoothness_worst', 'concavity_worst', 'symmetry_worst',\n",
      "       'fractal_dimension_worst'],\n",
      "      dtype='object')\n"
     ]
    }
   ],
   "source": [
    "print('Chosen best 10 feature by rfe:',x_train.columns[rfe.support_])"
   ]
  },
  {
   "cell_type": "code",
   "execution_count": 14,
   "id": "276dbdc5-ef63-40fe-abd7-2c0273b7836b",
   "metadata": {},
   "outputs": [
    {
     "name": "stdout",
     "output_type": "stream",
     "text": [
      "Optimal number of features : 13\n",
      "Best features : Index(['texture_mean', 'area_mean', 'smoothness_mean', 'concavity_mean',\n",
      "       'fractal_dimension_mean', 'area_se', 'smoothness_se', 'concavity_se',\n",
      "       'fractal_dimension_se', 'smoothness_worst', 'concavity_worst',\n",
      "       'symmetry_worst', 'fractal_dimension_worst'],\n",
      "      dtype='object')\n"
     ]
    }
   ],
   "source": [
    "from sklearn.feature_selection import RFECV\n",
    "\n",
    "# The \"accuracy\" scoring is proportional to the number of correct classifications\n",
    "clf_rf_4 = RandomForestClassifier() \n",
    "rfecv = RFECV(estimator=clf_rf_4, step=1, cv=5,scoring='accuracy')   #5-fold cross-validation\n",
    "rfecv = rfecv.fit(x_train, y_train)\n",
    "\n",
    "print('Optimal number of features :', rfecv.n_features_)\n",
    "print('Best features :', x_train.columns[rfecv.support_])\n"
   ]
  },
  {
   "cell_type": "code",
   "execution_count": 15,
   "id": "2c37a64d-6b87-403e-bd4e-6259fd095f6e",
   "metadata": {},
   "outputs": [],
   "source": [
    "columns = ['texture_mean', 'area_mean', 'smoothness_mean', 'concavity_mean',\n",
    "       'fractal_dimension_mean', 'area_se', 'smoothness_se', 'concavity_se',\n",
    "       'fractal_dimension_se', 'smoothness_worst', 'concavity_worst',\n",
    "       'symmetry_worst', 'fractal_dimension_worst']"
   ]
  },
  {
   "cell_type": "code",
   "execution_count": 16,
   "id": "a6bd6fc5-499d-4170-a2d2-639d9ed6d7eb",
   "metadata": {},
   "outputs": [],
   "source": [
    "data2 = pd.DataFrame()\n",
    "data2[columns] = data[columns]"
   ]
  },
  {
   "cell_type": "code",
   "execution_count": 18,
   "id": "5493091a-d565-4b6c-a345-d9a6d1276f84",
   "metadata": {},
   "outputs": [],
   "source": [
    "data2[\"diagnosis\"] = data[\"diagnosis\"]\n",
    "data2.to_csv(\"../data/data2.csv\")"
   ]
  },
  {
   "cell_type": "markdown",
   "id": "5f5773ab-ead5-4f71-a539-83062204e44e",
   "metadata": {},
   "source": [
    "Let's use Random Forest to see if our feature choice is accurate"
   ]
  },
  {
   "cell_type": "markdown",
   "id": "dafe0281-88dd-43f0-8c1a-427932b67f40",
   "metadata": {},
   "source": [
    "Well it looks like our feature selection is good we have accuracy of 100%"
   ]
  },
  {
   "cell_type": "markdown",
   "id": "b572825f-4424-4f48-a212-1e094d1fd715",
   "metadata": {},
   "source": [
    "SPLIT DATA TO TRAIN AND HOLD OUT SET"
   ]
  },
  {
   "cell_type": "code",
   "execution_count": 19,
   "id": "74acc547-95ef-4bb6-b59e-2c839fff953d",
   "metadata": {},
   "outputs": [],
   "source": [
    "from sklearn.model_selection import train_test_split\n",
    "train_df, valid_df = train_test_split(data, random_state=20, test_size=.2)"
   ]
  },
  {
   "cell_type": "code",
   "execution_count": 20,
   "id": "3ab7946d-44a8-4514-8e84-cbaa23a44f49",
   "metadata": {},
   "outputs": [
    {
     "data": {
      "image/png": "[encoded data removed]",
      "text/latex": [
       "$\\displaystyle \\left( 455, \\  33\\right)$"
      ],
      "text/plain": [
       "(455, 33)"
      ]
     },
     "execution_count": 20,
     "metadata": {},
     "output_type": "execute_result"
    }
   ],
   "source": [
    "train_df.shape"
   ]
  },
  {
   "cell_type": "code",
   "execution_count": 21,
   "id": "40eb8d57-0e99-4bfb-8f3c-7a9e45dad5d8",
   "metadata": {},
   "outputs": [
    {
     "data": {
      "image/png": "[encoded data removed]",
      "text/latex": [
       "$\\displaystyle \\left( 114, \\  33\\right)$"
      ],
      "text/plain": [
       "(114, 33)"
      ]
     },
     "execution_count": 21,
     "metadata": {},
     "output_type": "execute_result"
    }
   ],
   "source": [
    "valid_df.shape"
   ]
  },
  {
   "cell_type": "markdown",
   "id": "ce173597-bc92-43d6-8b0a-9d63ac88ad2a",
   "metadata": {},
   "source": [
    "DEFINE CAUSAL MODEL"
   ]
  },
  {
   "cell_type": "code",
   "execution_count": 22,
   "id": "b73d6f42-b78d-4fe3-b9c1-96dd1c42a2be",
   "metadata": {},
   "outputs": [],
   "source": [
    "d = ds.linear_dataset(beta=5,\n",
    "    num_common_causes=5,\n",
    "    num_instruments = 0,\n",
    "    num_samples=10000,\n",
    "    treatment_is_binary=True)"
   ]
  },
  {
   "cell_type": "code",
   "execution_count": 23,
   "id": "9bc8c752-0f28-4cd6-aa36-930459878255",
   "metadata": {},
   "outputs": [],
   "source": [
    "d[\"dot_graph\"] = 'digraph { U[label=\"Unobserved Confounders\"];U->Diagnosis;area_mean->Diagnosis;concavity_mean->Diagnosis;area_se->Diagnosis;symmetry_worst->Diagnosis;concavity_worst->Diagnosis;symmetry_se->Diagnosis;concavity_se->Diagnosis;smoothness_se->Diagnosis;fractal_dimension_mean->Diagnosis;smoothness_mean->Diagnosis;symmetry_se->Diagnosis;fractal_dimension_se->Diagnosis;smoothness_worst->Diagnosis;fractal_dimension_worst->Diagnosis;}'"
   ]
  },
  {
   "cell_type": "code",
   "execution_count": 24,
   "id": "c27280f6-bb4c-4511-9003-979f9d88c33f",
   "metadata": {},
   "outputs": [],
   "source": [
    "model = CausalModel(\n",
    "    data = train_df,\n",
    "    treatment = [\"Diagnosis\"],\n",
    "    outcome = \"Diagnosis\",\n",
    "    graph = d[\"dot_graph\"]\n",
    ")"
   ]
  },
  {
   "cell_type": "code",
   "execution_count": 25,
   "id": "0b934b71-50b3-4db2-82d4-90189c2cd41b",
   "metadata": {},
   "outputs": [],
   "source": [
    "model.view_model()"
   ]
  },
  {
   "cell_type": "code",
   "execution_count": 26,
   "id": "a33decdd-b896-4865-a931-938767376f7b",
   "metadata": {},
   "outputs": [
    {
     "name": "stdout",
     "output_type": "stream",
     "text": [
      "Estimand type: nonparametric-ate\n",
      "\n",
      "### Estimand : 1\n",
      "Estimand name: backdoor\n",
      "Estimand expression:\n",
      "     d                               \n",
      "────────────(E[Diagnosis|symmetryₛₑ])\n",
      "d[Diagnosis]                         \n",
      "Estimand assumption 1, Unconfoundedness: If U→{Diagnosis} and U→Diagnosis then P(Diagnosis|Diagnosis,symmetry_se,U) = P(Diagnosis|Diagnosis,symmetry_se)\n",
      "\n",
      "### Estimand : 2\n",
      "Estimand name: iv\n",
      "Estimand expression:\n",
      " ⎡                                                                            \n",
      " ⎢                                                                            \n",
      "E⎢────────────────────────────────────────────────────────────────────────────\n",
      " ⎣d[areaₘₑₐₙ  smoothness_worst  U  concavity_worst  fractal_dimension_worst  a\n",
      "\n",
      "                                                                              \n",
      "                        d                                                     \n",
      "──────────────────────────────────────────────────────────────────────────────\n",
      "reaₛₑ  fractal_dimension_se  fractal_dimension_mean  concavityₛₑ  smoothnessₛₑ\n",
      "\n",
      "                                                                              \n",
      "                                                            ⎛                 \n",
      "────────────────────────────────────────────────(Diagnosis)⋅⎜─────────────────\n",
      "  concavityₘₑₐₙ  smoothnessₘₑₐₙ  symmetry_worst]            ⎝d[areaₘₑₐₙ  smoot\n",
      "\n",
      "                                                                              \n",
      "                                                                              \n",
      "──────────────────────────────────────────────────────────────────────────────\n",
      "hness_worst  U  concavity_worst  fractal_dimension_worst  areaₛₑ  fractal_dime\n",
      "\n",
      "                                                                              \n",
      "     d                                                                        \n",
      "──────────────────────────────────────────────────────────────────────────────\n",
      "nsion_se  fractal_dimension_mean  concavityₛₑ  smoothnessₛₑ  concavityₘₑₐₙ  sm\n",
      "\n",
      "                                           -1⎤\n",
      "                                          ⎞  ⎥\n",
      "─────────────────────────────([Diagnosis])⎟  ⎥\n",
      "oothnessₘₑₐₙ  symmetry_worst]             ⎠  ⎦\n",
      "Estimand assumption 1, As-if-random: If U→→Diagnosis then ¬(U →→{area_mean,smoothness_worst,U,concavity_worst,fractal_dimension_worst,area_se,fractal_dimension_se,fractal_dimension_mean,concavity_se,smoothness_se,concavity_mean,smoothness_mean,symmetry_worst})\n",
      "Estimand assumption 2, Exclusion: If we remove {area_mean,smoothness_worst,U,concavity_worst,fractal_dimension_worst,area_se,fractal_dimension_se,fractal_dimension_mean,concavity_se,smoothness_se,concavity_mean,smoothness_mean,symmetry_worst}→{Diagnosis}, then ¬({area_mean,smoothness_worst,U,concavity_worst,fractal_dimension_worst,area_se,fractal_dimension_se,fractal_dimension_mean,concavity_se,smoothness_se,concavity_mean,smoothness_mean,symmetry_worst}→Diagnosis)\n",
      "\n",
      "### Estimand : 3\n",
      "Estimand name: frontdoor\n",
      "No such variable found!\n",
      "\n"
     ]
    }
   ],
   "source": [
    "identified_estimand = model.identify_effect()\n",
    "print(identified_estimand)"
   ]
  },
  {
   "cell_type": "markdown",
   "id": "86f716eb-6367-4b8a-b9a4-06e5df43ec84",
   "metadata": {},
   "source": [
    "CALCULATE CAUSAL EFFECT BASED ON ESTIMAND"
   ]
  },
  {
   "cell_type": "code",
   "execution_count": 27,
   "id": "fa92192b-071f-4c1c-be32-4182e26b21ba",
   "metadata": {},
   "outputs": [
    {
     "data": {
      "text/plain": [
       "'graph[directed 1node[ id \"y\" label \"y\"]node[ id \"Unobserved Confounders\" label \"Unobserved Confounders\"]edge[source \"Unobserved Confounders\" target \"y\"]node[ id \"W0\" label \"W0\"] node[ id \"W1\" label \"W1\"] node[ id \"W2\" label \"W2\"] node[ id \"W3\" label \"W3\"] node[ id \"W4\" label \"W4\"]node[ id \"v0\" label \"v0\"]edge[source \"Unobserved Confounders\" target \"v0\"]edge[source \"v0\" target \"y\"]edge[ source \"W0\" target \"v0\"] edge[ source \"W1\" target \"v0\"] edge[ source \"W2\" target \"v0\"] edge[ source \"W3\" target \"v0\"] edge[ source \"W4\" target \"v0\"]edge[ source \"W0\" target \"y\"] edge[ source \"W1\" target \"y\"] edge[ source \"W2\" target \"y\"] edge[ source \"W3\" target \"y\"] edge[ source \"W4\" target \"y\"]]'"
      ]
     },
     "execution_count": 27,
     "metadata": {},
     "output_type": "execute_result"
    }
   ],
   "source": [
    "d[\"gml_graph\"]"
   ]
  },
  {
   "cell_type": "code",
   "execution_count": 28,
   "id": "b03b1a55-02db-49ae-9f33-010f627a6dfd",
   "metadata": {},
   "outputs": [],
   "source": [
    "model = CausalModel(\n",
    "    data = data,\n",
    "    treatment = [\"Diagnosis\"],\n",
    "    outcome = \"Diagnosis\",\n",
    "    graph = d[\"dot_graph\"]\n",
    ")"
   ]
  },
  {
   "cell_type": "code",
   "execution_count": 29,
   "id": "7e3206fa-dcc7-463d-9015-57729157373d",
   "metadata": {},
   "outputs": [
    {
     "data": {
      "text/plain": [
       "{'df':             W0        W1        W2        W3        W4     v0          y\n",
       " 0     1.574443  2.412372 -1.287072 -0.672173 -0.501163   True   8.698336\n",
       " 1     1.000270 -0.005022 -0.540266 -0.438900 -0.424498  False  -0.306369\n",
       " 2    -0.346872  1.096617 -0.229747 -2.425565  0.640758  False  -2.087802\n",
       " 3     1.328827  1.423777 -1.410905 -0.665375 -1.308448  False   1.265399\n",
       " 4     0.581511 -0.108188 -2.796360  0.380182  2.273173   True   6.298504\n",
       " ...        ...       ...       ...       ...       ...    ...        ...\n",
       " 9995  1.853734  1.606587  0.410785  0.803293 -0.798394   True  10.401008\n",
       " 9996  0.412527  2.004730  0.586689 -0.878391  0.060679   True   7.642583\n",
       " 9997  0.895040 -0.106528  1.491454 -0.844096 -0.854148  False  -0.785617\n",
       " 9998 -1.408759 -0.081169  0.121273 -0.597193  1.152199  False  -1.622317\n",
       " 9999 -0.004182 -0.229512  2.637425 -0.036325  1.345443   True   6.259929\n",
       " \n",
       " [10000 rows x 7 columns],\n",
       " 'treatment_name': ['v0'],\n",
       " 'outcome_name': 'y',\n",
       " 'common_causes_names': ['W0', 'W1', 'W2', 'W3', 'W4'],\n",
       " 'instrument_names': [],\n",
       " 'effect_modifier_names': [],\n",
       " 'frontdoor_variables_names': [],\n",
       " 'dot_graph': 'digraph { U[label=\"Unobserved Confounders\"]; U->y;v0->y;U->v0;W0-> v0; W1-> v0; W2-> v0; W3-> v0; W4-> v0;W0-> y; W1-> y; W2-> y; W3-> y; W4-> y;}',\n",
       " 'gml_graph': 'graph[directed 1node[ id \"y\" label \"y\"]node[ id \"Unobserved Confounders\" label \"Unobserved Confounders\"]edge[source \"Unobserved Confounders\" target \"y\"]node[ id \"W0\" label \"W0\"] node[ id \"W1\" label \"W1\"] node[ id \"W2\" label \"W2\"] node[ id \"W3\" label \"W3\"] node[ id \"W4\" label \"W4\"]node[ id \"v0\" label \"v0\"]edge[source \"Unobserved Confounders\" target \"v0\"]edge[source \"v0\" target \"y\"]edge[ source \"W0\" target \"v0\"] edge[ source \"W1\" target \"v0\"] edge[ source \"W2\" target \"v0\"] edge[ source \"W3\" target \"v0\"] edge[ source \"W4\" target \"v0\"]edge[ source \"W0\" target \"y\"] edge[ source \"W1\" target \"y\"] edge[ source \"W2\" target \"y\"] edge[ source \"W3\" target \"y\"] edge[ source \"W4\" target \"y\"]]',\n",
       " 'ate': 4.999992087139023}"
      ]
     },
     "execution_count": 29,
     "metadata": {},
     "output_type": "execute_result"
    }
   ],
   "source": [
    "ds.linear_dataset(beta=5,\n",
    "    num_common_causes=5,\n",
    "    num_instruments = 0,\n",
    "    num_samples=10000,\n",
    "    treatment_is_binary=True)"
   ]
  },
  {
   "cell_type": "code",
   "execution_count": 30,
   "id": "02ad2770-2447-4e2b-a913-8d06c8b5ffad",
   "metadata": {},
   "outputs": [],
   "source": [
    "data = dowhy.datasets.linear_dataset(\n",
    "    beta=10,\n",
    "    num_common_causes=5,\n",
    "    num_instruments=2,\n",
    "    num_samples=10000,\n",
    "    treatment_is_binary=True)\n"
   ]
  },
  {
   "cell_type": "code",
   "execution_count": 34,
   "id": "a9ed7529-3ed4-4194-8ab8-71de3b45c707",
   "metadata": {},
   "outputs": [
    {
     "name": "stderr",
     "output_type": "stream",
     "text": [
      "A column-vector y was passed when a 1d array was expected. Please change the shape of y to (n_samples, ), for example using ravel().\n"
     ]
    },
    {
     "name": "stdout",
     "output_type": "stream",
     "text": [
      "*** Causal Estimate ***\n",
      "\n",
      "## Identified estimand\n",
      "Estimand type: nonparametric-ate\n",
      "\n",
      "### Estimand : 1\n",
      "Estimand name: backdoor\n",
      "Estimand expression:\n",
      "  d                       \n",
      "─────(E[y|W1,W3,W0,W2,W4])\n",
      "d[v₀]                     \n",
      "Estimand assumption 1, Unconfoundedness: If U→{v0} and U→y then P(y|v0,W1,W3,W0,W2,W4,U) = P(y|v0,W1,W3,W0,W2,W4)\n",
      "\n",
      "## Realized estimand\n",
      "b: y~v0+W1+W3+W0+W2+W4\n",
      "Target units: ate\n",
      "\n",
      "## Estimate\n",
      "Mean value: 12.263886508983562\n",
      "Effect estimates: [10.23526242 15.11734615 14.05898698 ... 15.55548593 11.03219149\n",
      " 11.85952911]\n",
      "\n"
     ]
    }
   ],
   "source": [
    "#Create a causal model from the data and given graph.\n",
    "model = CausalModel(\n",
    "    data=data[\"df\"],\n",
    "    treatment=data[\"treatment_name\"],\n",
    "    outcome=data[\"outcome_name\"],\n",
    "    graph=data[\"gml_graph\"])\n",
    "\n",
    "# Compute causal effect using metalearner\n",
    "identified_estimand_experiment = model.identify_effect(proceed_when_unidentifiable=True)\n",
    "\n",
    "from sklearn.ensemble import RandomForestRegressor\n",
    "metalearner_estimate = model.estimate_effect(identified_estimand_experiment,                             method_name=\"backdoor.econml.metalearners.TLearner\",\n",
    "confidence_intervals=False,\n",
    "method_params={\n",
    "     \"init_params\":{'models': RandomForestRegressor()},\n",
    "     \"fit_params\":{}\n",
    "              })\n",
    "print(metalearner_estimate)\n"
   ]
  },
  {
   "cell_type": "code",
   "execution_count": 35,
   "id": "7443bd28-2752-4718-a8ff-8285833b4977",
   "metadata": {},
   "outputs": [
    {
     "data": {
      "text/plain": [
       "(array([5.800e+01, 2.684e+03, 3.785e+03, 1.851e+03, 9.250e+02, 4.250e+02,\n",
       "        1.940e+02, 6.200e+01, 1.400e+01, 2.000e+00]),\n",
       " array([ 6.87613664,  8.77055049, 10.66496433, 12.55937817, 14.45379202,\n",
       "        16.34820586, 18.24261971, 20.13703355, 22.0314474 , 23.92586124,\n",
       "        25.82027509]),\n",
       " <BarContainer object of 10 artists>)"
      ]
     },
     "execution_count": 35,
     "metadata": {},
     "output_type": "execute_result"
    },
    {
     "data": {
      "image/png": "[encoded data removed]",
      "text/plain": [
       "<Figure size 432x288 with 1 Axes>"
      ]
     },
     "metadata": {
      "needs_background": "light"
     },
     "output_type": "display_data"
    }
   ],
   "source": [
    "# Print histogram of causal effects\n",
    "import matplotlib.pyplot as plt\n",
    "plt.hist(metalearner_estimate.cate_estimates)"
   ]
  },
  {
   "cell_type": "markdown",
   "id": "5ef8eed5-879c-4e47-ac03-5a2d34c6598e",
   "metadata": {},
   "source": [
    "Since the causal effect is not Gaussian distributed the mean doesn't represnet the overall disribution."
   ]
  },
  {
   "cell_type": "code",
   "execution_count": null,
   "id": "977b269d-14e2-4587-927b-3a5013f4922d",
   "metadata": {},
   "outputs": [],
   "source": []
  }
 ],
 "metadata": {
  "kernelspec": {
   "display_name": "Python 3 (ipykernel)",
   "language": "python",
   "name": "python3"
  },
  "language_info": {
   "codemirror_mode": {
    "name": "ipython",
    "version": 3
   },
   "file_extension": ".py",
   "mimetype": "text/x-python",
   "name": "python",
   "nbconvert_exporter": "python",
   "pygments_lexer": "ipython3",
   "version": "3.8.13"
  }
 },
 "nbformat": 4,
 "nbformat_minor": 5
}
